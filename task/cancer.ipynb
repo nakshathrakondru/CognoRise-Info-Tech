{
 "cells": [
  {
   "cell_type": "code",
   "execution_count": 1,
   "id": "34c8e5d8-4fc6-469b-bd79-fc0e6b4a192b",
   "metadata": {},
   "outputs": [],
   "source": [
    "import pandas as pd\n",
    "import numpy as np\n",
    "import sklearn.datasets as sk\n",
    "from sklearn.model_selection import train_test_split\n",
    "from sklearn.linear_model import LogisticRegression\n",
    "from sklearn.metrics import accuracy_score"
   ]
  },
  {
   "cell_type": "code",
   "execution_count": 2,
   "id": "207bcc7a-5198-4448-a6b1-212b25abb805",
   "metadata": {},
   "outputs": [],
   "source": [
    "data=pd.read_csv('cancer.csv')"
   ]
  },
  {
   "cell_type": "code",
   "execution_count": 3,
   "id": "6a41f9ae-4ebc-4984-8313-0b8f46b66805",
   "metadata": {},
   "outputs": [
    {
     "name": "stdout",
     "output_type": "stream",
     "text": [
      "           id diagnosis  radius_mean  texture_mean  perimeter_mean  area_mean  \\\n",
      "0      842302         M        17.99         10.38          122.80     1001.0   \n",
      "1      842517         M        20.57         17.77          132.90     1326.0   \n",
      "2    84300903         M        19.69         21.25          130.00     1203.0   \n",
      "3    84348301         M        11.42         20.38           77.58      386.1   \n",
      "4    84358402         M        20.29         14.34          135.10     1297.0   \n",
      "..        ...       ...          ...           ...             ...        ...   \n",
      "564    926424         M        21.56         22.39          142.00     1479.0   \n",
      "565    926682         M        20.13         28.25          131.20     1261.0   \n",
      "566    926954         M        16.60         28.08          108.30      858.1   \n",
      "567    927241         M        20.60         29.33          140.10     1265.0   \n",
      "568     92751         B         7.76         24.54           47.92      181.0   \n",
      "\n",
      "     smoothness_mean  compactness_mean  concavity_mean  concave points_mean  \\\n",
      "0            0.11840           0.27760         0.30010              0.14710   \n",
      "1            0.08474           0.07864         0.08690              0.07017   \n",
      "2            0.10960           0.15990         0.19740              0.12790   \n",
      "3            0.14250           0.28390         0.24140              0.10520   \n",
      "4            0.10030           0.13280         0.19800              0.10430   \n",
      "..               ...               ...             ...                  ...   \n",
      "564          0.11100           0.11590         0.24390              0.13890   \n",
      "565          0.09780           0.10340         0.14400              0.09791   \n",
      "566          0.08455           0.10230         0.09251              0.05302   \n",
      "567          0.11780           0.27700         0.35140              0.15200   \n",
      "568          0.05263           0.04362         0.00000              0.00000   \n",
      "\n",
      "     ...  texture_worst  perimeter_worst  area_worst  smoothness_worst  \\\n",
      "0    ...          17.33           184.60      2019.0           0.16220   \n",
      "1    ...          23.41           158.80      1956.0           0.12380   \n",
      "2    ...          25.53           152.50      1709.0           0.14440   \n",
      "3    ...          26.50            98.87       567.7           0.20980   \n",
      "4    ...          16.67           152.20      1575.0           0.13740   \n",
      "..   ...            ...              ...         ...               ...   \n",
      "564  ...          26.40           166.10      2027.0           0.14100   \n",
      "565  ...          38.25           155.00      1731.0           0.11660   \n",
      "566  ...          34.12           126.70      1124.0           0.11390   \n",
      "567  ...          39.42           184.60      1821.0           0.16500   \n",
      "568  ...          30.37            59.16       268.6           0.08996   \n",
      "\n",
      "     compactness_worst  concavity_worst  concave points_worst  symmetry_worst  \\\n",
      "0              0.66560           0.7119                0.2654          0.4601   \n",
      "1              0.18660           0.2416                0.1860          0.2750   \n",
      "2              0.42450           0.4504                0.2430          0.3613   \n",
      "3              0.86630           0.6869                0.2575          0.6638   \n",
      "4              0.20500           0.4000                0.1625          0.2364   \n",
      "..                 ...              ...                   ...             ...   \n",
      "564            0.21130           0.4107                0.2216          0.2060   \n",
      "565            0.19220           0.3215                0.1628          0.2572   \n",
      "566            0.30940           0.3403                0.1418          0.2218   \n",
      "567            0.86810           0.9387                0.2650          0.4087   \n",
      "568            0.06444           0.0000                0.0000          0.2871   \n",
      "\n",
      "     fractal_dimension_worst  Unnamed: 32  \n",
      "0                    0.11890          NaN  \n",
      "1                    0.08902          NaN  \n",
      "2                    0.08758          NaN  \n",
      "3                    0.17300          NaN  \n",
      "4                    0.07678          NaN  \n",
      "..                       ...          ...  \n",
      "564                  0.07115          NaN  \n",
      "565                  0.06637          NaN  \n",
      "566                  0.07820          NaN  \n",
      "567                  0.12400          NaN  \n",
      "568                  0.07039          NaN  \n",
      "\n",
      "[569 rows x 33 columns]\n"
     ]
    }
   ],
   "source": [
    "print(data)"
   ]
  },
  {
   "cell_type": "code",
   "execution_count": 4,
   "id": "a6028cfd-9103-4943-9bfd-f8fd29c4d9ae",
   "metadata": {},
   "outputs": [],
   "source": [
    "data1=data.drop('Unnamed: 32',axis=1)\n",
    "data1=data1.drop('id',axis=1)"
   ]
  },
  {
   "cell_type": "code",
   "execution_count": 7,
   "id": "f3409bfb-042e-4d3e-8992-c341561e862b",
   "metadata": {},
   "outputs": [],
   "source": [
    "data1['diagnosis'] = data1['diagnosis'].replace({'M':'Malignant', 'B': 'Benign'})\n"
   ]
  },
  {
   "cell_type": "code",
   "execution_count": 5,
   "id": "7d949a7a-32b5-4946-b959-bcbf4c16183d",
   "metadata": {},
   "outputs": [
    {
     "name": "stdout",
     "output_type": "stream",
     "text": [
      "    diagnosis  radius_mean  texture_mean  perimeter_mean  area_mean  \\\n",
      "0           M        17.99         10.38          122.80     1001.0   \n",
      "1           M        20.57         17.77          132.90     1326.0   \n",
      "2           M        19.69         21.25          130.00     1203.0   \n",
      "3           M        11.42         20.38           77.58      386.1   \n",
      "4           M        20.29         14.34          135.10     1297.0   \n",
      "..        ...          ...           ...             ...        ...   \n",
      "564         M        21.56         22.39          142.00     1479.0   \n",
      "565         M        20.13         28.25          131.20     1261.0   \n",
      "566         M        16.60         28.08          108.30      858.1   \n",
      "567         M        20.60         29.33          140.10     1265.0   \n",
      "568         B         7.76         24.54           47.92      181.0   \n",
      "\n",
      "     smoothness_mean  compactness_mean  concavity_mean  concave points_mean  \\\n",
      "0            0.11840           0.27760         0.30010              0.14710   \n",
      "1            0.08474           0.07864         0.08690              0.07017   \n",
      "2            0.10960           0.15990         0.19740              0.12790   \n",
      "3            0.14250           0.28390         0.24140              0.10520   \n",
      "4            0.10030           0.13280         0.19800              0.10430   \n",
      "..               ...               ...             ...                  ...   \n",
      "564          0.11100           0.11590         0.24390              0.13890   \n",
      "565          0.09780           0.10340         0.14400              0.09791   \n",
      "566          0.08455           0.10230         0.09251              0.05302   \n",
      "567          0.11780           0.27700         0.35140              0.15200   \n",
      "568          0.05263           0.04362         0.00000              0.00000   \n",
      "\n",
      "     symmetry_mean  ...  radius_worst  texture_worst  perimeter_worst  \\\n",
      "0           0.2419  ...        25.380          17.33           184.60   \n",
      "1           0.1812  ...        24.990          23.41           158.80   \n",
      "2           0.2069  ...        23.570          25.53           152.50   \n",
      "3           0.2597  ...        14.910          26.50            98.87   \n",
      "4           0.1809  ...        22.540          16.67           152.20   \n",
      "..             ...  ...           ...            ...              ...   \n",
      "564         0.1726  ...        25.450          26.40           166.10   \n",
      "565         0.1752  ...        23.690          38.25           155.00   \n",
      "566         0.1590  ...        18.980          34.12           126.70   \n",
      "567         0.2397  ...        25.740          39.42           184.60   \n",
      "568         0.1587  ...         9.456          30.37            59.16   \n",
      "\n",
      "     area_worst  smoothness_worst  compactness_worst  concavity_worst  \\\n",
      "0        2019.0           0.16220            0.66560           0.7119   \n",
      "1        1956.0           0.12380            0.18660           0.2416   \n",
      "2        1709.0           0.14440            0.42450           0.4504   \n",
      "3         567.7           0.20980            0.86630           0.6869   \n",
      "4        1575.0           0.13740            0.20500           0.4000   \n",
      "..          ...               ...                ...              ...   \n",
      "564      2027.0           0.14100            0.21130           0.4107   \n",
      "565      1731.0           0.11660            0.19220           0.3215   \n",
      "566      1124.0           0.11390            0.30940           0.3403   \n",
      "567      1821.0           0.16500            0.86810           0.9387   \n",
      "568       268.6           0.08996            0.06444           0.0000   \n",
      "\n",
      "     concave points_worst  symmetry_worst  fractal_dimension_worst  \n",
      "0                  0.2654          0.4601                  0.11890  \n",
      "1                  0.1860          0.2750                  0.08902  \n",
      "2                  0.2430          0.3613                  0.08758  \n",
      "3                  0.2575          0.6638                  0.17300  \n",
      "4                  0.1625          0.2364                  0.07678  \n",
      "..                    ...             ...                      ...  \n",
      "564                0.2216          0.2060                  0.07115  \n",
      "565                0.1628          0.2572                  0.06637  \n",
      "566                0.1418          0.2218                  0.07820  \n",
      "567                0.2650          0.4087                  0.12400  \n",
      "568                0.0000          0.2871                  0.07039  \n",
      "\n",
      "[569 rows x 31 columns]\n"
     ]
    }
   ],
   "source": [
    "print(data1)"
   ]
  },
  {
   "cell_type": "code",
   "execution_count": 8,
   "id": "82c96d6b-18dd-4793-85a5-c0d0fc2da524",
   "metadata": {},
   "outputs": [
    {
     "data": {
      "text/html": [
       "<div>\n",
       "<style scoped>\n",
       "    .dataframe tbody tr th:only-of-type {\n",
       "        vertical-align: middle;\n",
       "    }\n",
       "\n",
       "    .dataframe tbody tr th {\n",
       "        vertical-align: top;\n",
       "    }\n",
       "\n",
       "    .dataframe thead th {\n",
       "        text-align: right;\n",
       "    }\n",
       "</style>\n",
       "<table border=\"1\" class=\"dataframe\">\n",
       "  <thead>\n",
       "    <tr style=\"text-align: right;\">\n",
       "      <th></th>\n",
       "      <th>radius_mean</th>\n",
       "      <th>texture_mean</th>\n",
       "      <th>perimeter_mean</th>\n",
       "      <th>area_mean</th>\n",
       "      <th>smoothness_mean</th>\n",
       "      <th>compactness_mean</th>\n",
       "      <th>concavity_mean</th>\n",
       "      <th>concave points_mean</th>\n",
       "      <th>symmetry_mean</th>\n",
       "      <th>fractal_dimension_mean</th>\n",
       "      <th>...</th>\n",
       "      <th>radius_worst</th>\n",
       "      <th>texture_worst</th>\n",
       "      <th>perimeter_worst</th>\n",
       "      <th>area_worst</th>\n",
       "      <th>smoothness_worst</th>\n",
       "      <th>compactness_worst</th>\n",
       "      <th>concavity_worst</th>\n",
       "      <th>concave points_worst</th>\n",
       "      <th>symmetry_worst</th>\n",
       "      <th>fractal_dimension_worst</th>\n",
       "    </tr>\n",
       "    <tr>\n",
       "      <th>diagnosis</th>\n",
       "      <th></th>\n",
       "      <th></th>\n",
       "      <th></th>\n",
       "      <th></th>\n",
       "      <th></th>\n",
       "      <th></th>\n",
       "      <th></th>\n",
       "      <th></th>\n",
       "      <th></th>\n",
       "      <th></th>\n",
       "      <th></th>\n",
       "      <th></th>\n",
       "      <th></th>\n",
       "      <th></th>\n",
       "      <th></th>\n",
       "      <th></th>\n",
       "      <th></th>\n",
       "      <th></th>\n",
       "      <th></th>\n",
       "      <th></th>\n",
       "      <th></th>\n",
       "    </tr>\n",
       "  </thead>\n",
       "  <tbody>\n",
       "    <tr>\n",
       "      <th>Benign</th>\n",
       "      <td>12.146524</td>\n",
       "      <td>17.914762</td>\n",
       "      <td>78.075406</td>\n",
       "      <td>462.790196</td>\n",
       "      <td>0.092478</td>\n",
       "      <td>0.080085</td>\n",
       "      <td>0.046058</td>\n",
       "      <td>0.025717</td>\n",
       "      <td>0.174186</td>\n",
       "      <td>0.062867</td>\n",
       "      <td>...</td>\n",
       "      <td>13.379801</td>\n",
       "      <td>23.515070</td>\n",
       "      <td>87.005938</td>\n",
       "      <td>558.899440</td>\n",
       "      <td>0.124959</td>\n",
       "      <td>0.182673</td>\n",
       "      <td>0.166238</td>\n",
       "      <td>0.074444</td>\n",
       "      <td>0.270246</td>\n",
       "      <td>0.079442</td>\n",
       "    </tr>\n",
       "    <tr>\n",
       "      <th>Malignant</th>\n",
       "      <td>17.462830</td>\n",
       "      <td>21.604906</td>\n",
       "      <td>115.365377</td>\n",
       "      <td>978.376415</td>\n",
       "      <td>0.102898</td>\n",
       "      <td>0.145188</td>\n",
       "      <td>0.160775</td>\n",
       "      <td>0.087990</td>\n",
       "      <td>0.192909</td>\n",
       "      <td>0.062680</td>\n",
       "      <td>...</td>\n",
       "      <td>21.134811</td>\n",
       "      <td>29.318208</td>\n",
       "      <td>141.370330</td>\n",
       "      <td>1422.286321</td>\n",
       "      <td>0.144845</td>\n",
       "      <td>0.374824</td>\n",
       "      <td>0.450606</td>\n",
       "      <td>0.182237</td>\n",
       "      <td>0.323468</td>\n",
       "      <td>0.091530</td>\n",
       "    </tr>\n",
       "  </tbody>\n",
       "</table>\n",
       "<p>2 rows × 30 columns</p>\n",
       "</div>"
      ],
      "text/plain": [
       "           radius_mean  texture_mean  perimeter_mean   area_mean  \\\n",
       "diagnosis                                                          \n",
       "Benign       12.146524     17.914762       78.075406  462.790196   \n",
       "Malignant    17.462830     21.604906      115.365377  978.376415   \n",
       "\n",
       "           smoothness_mean  compactness_mean  concavity_mean  \\\n",
       "diagnosis                                                      \n",
       "Benign            0.092478          0.080085        0.046058   \n",
       "Malignant         0.102898          0.145188        0.160775   \n",
       "\n",
       "           concave points_mean  symmetry_mean  fractal_dimension_mean  ...  \\\n",
       "diagnosis                                                              ...   \n",
       "Benign                0.025717       0.174186                0.062867  ...   \n",
       "Malignant             0.087990       0.192909                0.062680  ...   \n",
       "\n",
       "           radius_worst  texture_worst  perimeter_worst   area_worst  \\\n",
       "diagnosis                                                              \n",
       "Benign        13.379801      23.515070        87.005938   558.899440   \n",
       "Malignant     21.134811      29.318208       141.370330  1422.286321   \n",
       "\n",
       "           smoothness_worst  compactness_worst  concavity_worst  \\\n",
       "diagnosis                                                         \n",
       "Benign             0.124959           0.182673         0.166238   \n",
       "Malignant          0.144845           0.374824         0.450606   \n",
       "\n",
       "           concave points_worst  symmetry_worst  fractal_dimension_worst  \n",
       "diagnosis                                                                 \n",
       "Benign                 0.074444        0.270246                 0.079442  \n",
       "Malignant              0.182237        0.323468                 0.091530  \n",
       "\n",
       "[2 rows x 30 columns]"
      ]
     },
     "execution_count": 8,
     "metadata": {},
     "output_type": "execute_result"
    }
   ],
   "source": [
    "data1.groupby('diagnosis').mean()"
   ]
  },
  {
   "cell_type": "code",
   "execution_count": 6,
   "id": "098efb00-199e-452a-bd97-7995aa837920",
   "metadata": {},
   "outputs": [],
   "source": [
    "x=data1.drop(columns='diagnosis',axis=1)\n"
   ]
  },
  {
   "cell_type": "code",
   "execution_count": 8,
   "id": "8548f967-c435-4669-9583-1c8686c39e2f",
   "metadata": {},
   "outputs": [],
   "source": [
    "y=data1['diagnosis']"
   ]
  },
  {
   "cell_type": "code",
   "execution_count": 10,
   "id": "be5b2607-6c32-48eb-9603-3fc6d2498e09",
   "metadata": {},
   "outputs": [
    {
     "name": "stdout",
     "output_type": "stream",
     "text": [
      "     radius_mean  texture_mean  perimeter_mean  area_mean  smoothness_mean  \\\n",
      "0          17.99         10.38          122.80     1001.0          0.11840   \n",
      "1          20.57         17.77          132.90     1326.0          0.08474   \n",
      "2          19.69         21.25          130.00     1203.0          0.10960   \n",
      "3          11.42         20.38           77.58      386.1          0.14250   \n",
      "4          20.29         14.34          135.10     1297.0          0.10030   \n",
      "..           ...           ...             ...        ...              ...   \n",
      "564        21.56         22.39          142.00     1479.0          0.11100   \n",
      "565        20.13         28.25          131.20     1261.0          0.09780   \n",
      "566        16.60         28.08          108.30      858.1          0.08455   \n",
      "567        20.60         29.33          140.10     1265.0          0.11780   \n",
      "568         7.76         24.54           47.92      181.0          0.05263   \n",
      "\n",
      "     compactness_mean  concavity_mean  concave points_mean  symmetry_mean  \\\n",
      "0             0.27760         0.30010              0.14710         0.2419   \n",
      "1             0.07864         0.08690              0.07017         0.1812   \n",
      "2             0.15990         0.19740              0.12790         0.2069   \n",
      "3             0.28390         0.24140              0.10520         0.2597   \n",
      "4             0.13280         0.19800              0.10430         0.1809   \n",
      "..                ...             ...                  ...            ...   \n",
      "564           0.11590         0.24390              0.13890         0.1726   \n",
      "565           0.10340         0.14400              0.09791         0.1752   \n",
      "566           0.10230         0.09251              0.05302         0.1590   \n",
      "567           0.27700         0.35140              0.15200         0.2397   \n",
      "568           0.04362         0.00000              0.00000         0.1587   \n",
      "\n",
      "     fractal_dimension_mean  ...  radius_worst  texture_worst  \\\n",
      "0                   0.07871  ...        25.380          17.33   \n",
      "1                   0.05667  ...        24.990          23.41   \n",
      "2                   0.05999  ...        23.570          25.53   \n",
      "3                   0.09744  ...        14.910          26.50   \n",
      "4                   0.05883  ...        22.540          16.67   \n",
      "..                      ...  ...           ...            ...   \n",
      "564                 0.05623  ...        25.450          26.40   \n",
      "565                 0.05533  ...        23.690          38.25   \n",
      "566                 0.05648  ...        18.980          34.12   \n",
      "567                 0.07016  ...        25.740          39.42   \n",
      "568                 0.05884  ...         9.456          30.37   \n",
      "\n",
      "     perimeter_worst  area_worst  smoothness_worst  compactness_worst  \\\n",
      "0             184.60      2019.0           0.16220            0.66560   \n",
      "1             158.80      1956.0           0.12380            0.18660   \n",
      "2             152.50      1709.0           0.14440            0.42450   \n",
      "3              98.87       567.7           0.20980            0.86630   \n",
      "4             152.20      1575.0           0.13740            0.20500   \n",
      "..               ...         ...               ...                ...   \n",
      "564           166.10      2027.0           0.14100            0.21130   \n",
      "565           155.00      1731.0           0.11660            0.19220   \n",
      "566           126.70      1124.0           0.11390            0.30940   \n",
      "567           184.60      1821.0           0.16500            0.86810   \n",
      "568            59.16       268.6           0.08996            0.06444   \n",
      "\n",
      "     concavity_worst  concave points_worst  symmetry_worst  \\\n",
      "0             0.7119                0.2654          0.4601   \n",
      "1             0.2416                0.1860          0.2750   \n",
      "2             0.4504                0.2430          0.3613   \n",
      "3             0.6869                0.2575          0.6638   \n",
      "4             0.4000                0.1625          0.2364   \n",
      "..               ...                   ...             ...   \n",
      "564           0.4107                0.2216          0.2060   \n",
      "565           0.3215                0.1628          0.2572   \n",
      "566           0.3403                0.1418          0.2218   \n",
      "567           0.9387                0.2650          0.4087   \n",
      "568           0.0000                0.0000          0.2871   \n",
      "\n",
      "     fractal_dimension_worst  \n",
      "0                    0.11890  \n",
      "1                    0.08902  \n",
      "2                    0.08758  \n",
      "3                    0.17300  \n",
      "4                    0.07678  \n",
      "..                       ...  \n",
      "564                  0.07115  \n",
      "565                  0.06637  \n",
      "566                  0.07820  \n",
      "567                  0.12400  \n",
      "568                  0.07039  \n",
      "\n",
      "[569 rows x 30 columns]\n"
     ]
    }
   ],
   "source": [
    "print(x)"
   ]
  },
  {
   "cell_type": "code",
   "execution_count": 11,
   "id": "63b87b96-fd0a-40ed-852a-1b552841c256",
   "metadata": {},
   "outputs": [
    {
     "name": "stdout",
     "output_type": "stream",
     "text": [
      "0      M\n",
      "1      M\n",
      "2      M\n",
      "3      M\n",
      "4      M\n",
      "      ..\n",
      "564    M\n",
      "565    M\n",
      "566    M\n",
      "567    M\n",
      "568    B\n",
      "Name: diagnosis, Length: 569, dtype: object\n"
     ]
    }
   ],
   "source": [
    "print(y)"
   ]
  },
  {
   "cell_type": "code",
   "execution_count": 11,
   "id": "248389a7-be62-4614-ae69-01e48b1c9248",
   "metadata": {},
   "outputs": [],
   "source": [
    "x_train,x_test,y_train,y_test=train_test_split(x,y,test_size=0.2,random_state=2)"
   ]
  },
  {
   "cell_type": "code",
   "execution_count": 23,
   "id": "b867b766-11a8-4a5c-88e6-242474f39fe6",
   "metadata": {},
   "outputs": [],
   "source": [
    "model = LogisticRegression(solver='lbfgs', max_iter=5000)"
   ]
  },
  {
   "cell_type": "code",
   "execution_count": 24,
   "id": "766ca6f5-a29d-4c4c-9ae2-9e658b4a7695",
   "metadata": {},
   "outputs": [],
   "source": [
    "model.fit(x_train,y_train);"
   ]
  },
  {
   "cell_type": "code",
   "execution_count": 14,
   "id": "6173542a-c02f-4200-9c59-b2427cfa3915",
   "metadata": {},
   "outputs": [],
   "source": [
    "x_train_prediction=model.predict(x_train)\n",
    "training_data_accuracy=accuracy_score(y_train,x_train_prediction)"
   ]
  },
  {
   "cell_type": "code",
   "execution_count": 15,
   "id": "afac65ef-d85c-48bc-9bf7-fec0cd718ace",
   "metadata": {},
   "outputs": [
    {
     "name": "stdout",
     "output_type": "stream",
     "text": [
      "0.9582417582417583\n"
     ]
    }
   ],
   "source": [
    "print(training_data_accuracy)"
   ]
  },
  {
   "cell_type": "code",
   "execution_count": 25,
   "id": "b5496e74-a574-48d6-9ace-b764aee24f65",
   "metadata": {},
   "outputs": [],
   "source": [
    "model.fit(x_test,y_test);"
   ]
  },
  {
   "cell_type": "code",
   "execution_count": 17,
   "id": "31ef7a1b-cd48-47eb-81c4-b74763d183d9",
   "metadata": {},
   "outputs": [],
   "source": [
    "x_test_prediction=model.predict(x_test)\n",
    "testing_data_accuracy=accuracy_score(y_test,x_test_prediction)"
   ]
  },
  {
   "cell_type": "code",
   "execution_count": 18,
   "id": "39b1995c-61a4-4231-aa18-45a407fdd5a3",
   "metadata": {},
   "outputs": [
    {
     "name": "stdout",
     "output_type": "stream",
     "text": [
      "0.9824561403508771\n"
     ]
    }
   ],
   "source": [
    "print(testing_data_accuracy)"
   ]
  },
  {
   "cell_type": "code",
   "execution_count": 19,
   "id": "9f826fa9-2ced-437e-a573-78704204a17e",
   "metadata": {},
   "outputs": [
    {
     "name": "stdout",
     "output_type": "stream",
     "text": [
      "['Malignant']\n"
     ]
    }
   ],
   "source": [
    "raw_input=([13, 21.82, 87.5, 519.8, 0.1273, 0.1932, 0.1859, 0.09353, 0.235, 0.07389, 0.3063, 1.002, 2.406, 24.32, 0.005731, 0.03502, 0.03553, 0.01226, 0.02143, 0.003749, 15.49, 30.73, 106.2, 739.3, 0.1703, 0.5401, 0.539, 0.206, 0.4378, 0.1072\n",
    "           ])\n",
    "feature_names=x_train.columns\n",
    "input_df=pd.DataFrame([raw_input],columns=feature_names)\n",
    "prediction=model.predict(input_df)\n",
    "print(prediction)"
   ]
  }
 ],
 "metadata": {
  "kernelspec": {
   "display_name": "Python 3 (ipykernel)",
   "language": "python",
   "name": "python3"
  },
  "language_info": {
   "codemirror_mode": {
    "name": "ipython",
    "version": 3
   },
   "file_extension": ".py",
   "mimetype": "text/x-python",
   "name": "python",
   "nbconvert_exporter": "python",
   "pygments_lexer": "ipython3",
   "version": "3.12.3"
  }
 },
 "nbformat": 4,
 "nbformat_minor": 5
}
